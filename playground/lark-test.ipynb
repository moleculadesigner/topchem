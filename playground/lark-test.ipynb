{
 "cells": [
  {
   "cell_type": "code",
   "execution_count": 73,
   "id": "d2844058-7f01-4f1d-b44e-e68c2a605751",
   "metadata": {},
   "outputs": [],
   "source": [
    "from lark import Lark, Token, Tree, Visitor, Transformer\n",
    "from pathlib import Path\n",
    "from shutil import which\n",
    "\n",
    "from topchem.gromacs.top.parser import parse_topology, _top_parser\n",
    "from collections import defaultdict, namedtuple"
   ]
  },
  {
   "cell_type": "code",
   "execution_count": null,
   "id": "7ef6c2b9-2a19-4cfb-b4d7-8cc17cbe050d",
   "metadata": {},
   "outputs": [],
   "source": []
  },
  {
   "cell_type": "code",
   "execution_count": 2,
   "id": "56428636-61f5-40d0-bcd8-84fe8d8eade3",
   "metadata": {},
   "outputs": [],
   "source": [
    "def void_factory():\n",
    "    def none():\n",
    "        pass\n",
    "    return none"
   ]
  },
  {
   "cell_type": "code",
   "execution_count": 74,
   "id": "bb8acb7c-31a0-4bfe-9f3a-13a3ce79eaa2",
   "metadata": {},
   "outputs": [
    {
     "ename": "SyntaxError",
     "evalue": "incomplete input (398721952.py, line 3)",
     "output_type": "error",
     "traceback": [
      "\u001b[0;36m  Cell \u001b[0;32mIn[74], line 3\u001b[0;36m\u001b[0m\n\u001b[0;31m    def void(*args, **kwargs):\u001b[0m\n\u001b[0m                              ^\u001b[0m\n\u001b[0;31mSyntaxError\u001b[0m\u001b[0;31m:\u001b[0m incomplete input\n"
     ]
    }
   ],
   "source": [
    "def ignore(*args, **kwargs):\n",
    "    pass"
   ]
  },
  {
   "cell_type": "code",
   "execution_count": 4,
   "id": "4a16ab82-061a-40e4-9305-1c02cb69efed",
   "metadata": {},
   "outputs": [],
   "source": [
    "d = defaultdict(void_factory)"
   ]
  },
  {
   "cell_type": "code",
   "execution_count": 5,
   "id": "0e75bccc-6d4d-4889-8c2b-12f779dc6541",
   "metadata": {},
   "outputs": [],
   "source": [
    "d[\"a\"]()"
   ]
  },
  {
   "cell_type": "code",
   "execution_count": 6,
   "id": "fb556556-4bad-49a8-81f1-b05d0093b2b7",
   "metadata": {},
   "outputs": [],
   "source": [
    "def tokens_with_level(tree, level=0):\n",
    "    def process_token(token):\n",
    "        ttype = token.type\n",
    "        val = token.value\n",
    "        return level, ttype, val\n",
    "    if isinstance(tree, Token):\n",
    "        tokens = [process_token(tree)]\n",
    "    elif isinstance(tree, Tree):\n",
    "        tokens = [(level, \"+\", tree.data)]\n",
    "        for child in tree.children:\n",
    "            tokens.extend(tokens_with_level(child, level + 1))\n",
    "    else:\n",
    "        tokens = [(level, str(type(tree)), tree)]\n",
    "    return tokens"
   ]
  },
  {
   "cell_type": "code",
   "execution_count": 312,
   "id": "942a4d98-b50e-4483-9a40-9dde7d8b4478",
   "metadata": {},
   "outputs": [],
   "source": [
    "def show_tree(tree):\n",
    "    string = \"\"\n",
    "    for level, t, v in tokens_with_level(tree):\n",
    "        if t != \"+\":\n",
    "            t = f\"{t:<12}\"\n",
    "        string += f\"{'  '*level}{t} {v}\\n\"\n",
    "    return string"
   ]
  },
  {
   "cell_type": "code",
   "execution_count": 313,
   "id": "5d8ac44c-3421-4175-be28-cbccec741a37",
   "metadata": {},
   "outputs": [],
   "source": [
    "tree = parse_topology(\"/Users/iakovlevda/_pmx/gromacs-2021/build/package/gromacs/share/gromacs/top/amber99sb-ildn.ff/ffnonbonded.itp\")"
   ]
  },
  {
   "cell_type": "code",
   "execution_count": 314,
   "id": "081ae20a-51bf-4006-beb3-8f240f085031",
   "metadata": {},
   "outputs": [],
   "source": [
    "t = tree.children[19].children[0]"
   ]
  },
  {
   "cell_type": "code",
   "execution_count": 315,
   "id": "5e3af1b4-adbf-47c4-9570-375f3ed1aef1",
   "metadata": {},
   "outputs": [
    {
     "data": {
      "text/plain": [
       "Token('ID', 'HC')"
      ]
     },
     "execution_count": 315,
     "metadata": {},
     "output_type": "execute_result"
    }
   ],
   "source": [
    "t"
   ]
  },
  {
   "cell_type": "code",
   "execution_count": 316,
   "id": "acc80837-3e67-4b21-b1c5-d95257b61daf",
   "metadata": {},
   "outputs": [
    {
     "data": {
      "text/plain": [
       "'ID'"
      ]
     },
     "execution_count": 316,
     "metadata": {},
     "output_type": "execute_result"
    }
   ],
   "source": [
    "t.type"
   ]
  },
  {
   "cell_type": "code",
   "execution_count": 317,
   "id": "e5021fae-ee8b-4d2f-a374-2fb6c8e9a047",
   "metadata": {},
   "outputs": [
    {
     "data": {
      "text/plain": [
       "Token('COMMENT', ';sdf')"
      ]
     },
     "execution_count": 317,
     "metadata": {},
     "output_type": "execute_result"
    }
   ],
   "source": [
    "Token(type=\"COMMENT\", value=\";sdf\")"
   ]
  },
  {
   "cell_type": "code",
   "execution_count": 318,
   "id": "2cca94c5-7961-46d4-b0b5-16a6f1ed6a4c",
   "metadata": {
    "scrolled": true
   },
   "outputs": [
    {
     "data": {
      "text/plain": [
       "'+ topology\\n  + section_header\\n    CNAME        atomtypes\\n  + block_comment\\n    COMMENT      ; name      at.num  mass     charge ptype  sigma      epsilon\\n  + entry\\n    ID           Br\\n    SIGNED_INT   35\\n    SIGNED_FLOAT 79.90\\n    SIGNED_FLOAT 0.0000\\n    ID           A\\n    SIGNED_FLOAT 3.95559e-01\\n    SIGNED_FLOAT 1.33888e+00\\n    COMMENT      ; Converted from parm99.dat \\n  + entry\\n    ID           C\\n    SIGNED_INT   6\\n    SIGNED_FLOAT 12.01\\n    SIGNED_FLOAT 0.0000\\n    ID           A\\n    SIGNED_FLOAT 3.39967e-01\\n    SIGNED_FLOAT 3.59824e-01\\n  + entry\\n    ID           CA\\n    SIGNED_INT   6\\n    SIGNED_FLOAT 12.01\\n    SIGNED_FLOAT 0.0000\\n    ID           A\\n    SIGNED_FLOAT 3.39967e-01\\n    SIGNED_FLOAT 3.59824e-01\\n  + entry\\n    ID           CB\\n    SIGNED_INT   6\\n    SIGNED_FLOAT 12.01\\n    SIGNED_FLOAT 0.0000\\n    ID           A\\n    SIGNED_FLOAT 3.39967e-01\\n    SIGNED_FLOAT 3.59824e-01\\n  + entry\\n    ID           CC\\n    SIGNED_INT   6\\n    SIGNED_FLOAT 12.01\\n    SIGNED_FLOAT 0.0000\\n    ID           A\\n    SIGNED_FLOAT 3.39967e-01\\n    SIGNED_FLOAT 3.59824e-01\\n  + entry\\n    ID           CK\\n    SIGNED_INT   6\\n    SIGNED_FLOAT 12.01\\n    SIGNED_FLOAT 0.0000\\n    ID           A\\n    SIGNED_FLOAT 3.39967e-01\\n    SIGNED_FLOAT 3.59824e-01\\n  + entry\\n    ID           CM\\n    SIGNED_INT   6\\n    SIGNED_FLOAT 12.01\\n    SIGNED_FLOAT 0.0000\\n    ID           A\\n    SIGNED_FLOAT 3.39967e-01\\n    SIGNED_FLOAT 3.59824e-01\\n  + entry\\n    ID           CN\\n    SIGNED_INT   6\\n    SIGNED_FLOAT 12.01\\n    SIGNED_FLOAT 0.0000\\n    ID           A\\n    SIGNED_FLOAT 3.39967e-01\\n    SIGNED_FLOAT 3.59824e-01\\n  + entry\\n    ID           CQ\\n    SIGNED_INT   6\\n    SIGNED_FLOAT 12.01\\n    SIGNED_FLOAT 0.0000\\n    ID           A\\n    SIGNED_FLOAT 3.39967e-01\\n    SIGNED_FLOAT 3.59824e-01\\n  + entry\\n    ID           CR\\n    SIGNED_INT   6\\n    SIGNED_FLOAT 12.01\\n    SIGNED_FLOAT 0.0000\\n    ID           A\\n    SIGNED_FLOAT 3.39967e-01\\n    SIGNED_FLOAT 3.59824e-01\\n  + entry\\n    ID           CT\\n    SIGNED_INT   6\\n    SIGNED_FLOAT 12.01\\n    SIGNED_FLOAT 0.0000\\n    ID           A\\n    SIGNED_FLOAT 3.39967e-01\\n    SIGNED_FLOAT 4.57730e-01\\n  + entry\\n    ID           CV\\n    SIGNED_INT   6\\n    SIGNED_FLOAT 12.01\\n    SIGNED_FLOAT 0.0000\\n    ID           A\\n    SIGNED_FLOAT 3.39967e-01\\n    SIGNED_FLOAT 3.59824e-01\\n  + entry\\n    ID           CW\\n    SIGNED_INT   6\\n    SIGNED_FLOAT 12.01\\n    SIGNED_FLOAT 0.0000\\n    ID           A\\n    SIGNED_FLOAT 3.39967e-01\\n    SIGNED_FLOAT 3.59824e-01\\n  + entry\\n    ID           C*\\n    SIGNED_INT   6\\n    SIGNED_FLOAT 12.01\\n    SIGNED_FLOAT 0.0000\\n    ID           A\\n    SIGNED_FLOAT 3.39967e-01\\n    SIGNED_FLOAT 3.59824e-01\\n  + entry\\n    ID           C0\\n    SIGNED_INT   20\\n    SIGNED_FLOAT 40.08\\n    SIGNED_FLOAT 0.0000\\n    ID           A\\n    SIGNED_FLOAT 3.05240e-01\\n    SIGNED_FLOAT 1.92376e+00\\n  + entry\\n    ID           F\\n    SIGNED_INT   9\\n    SIGNED_FLOAT 19.00\\n    SIGNED_FLOAT 0.0000\\n    ID           A\\n    SIGNED_FLOAT 3.11815e-01\\n    SIGNED_FLOAT 2.55224e-01\\n  + entry\\n    ID           H\\n    SIGNED_INT   1\\n    SIGNED_FLOAT 1.008\\n    SIGNED_FLOAT 0.0000\\n    ID           A\\n    SIGNED_FLOAT 1.06908e-01\\n    SIGNED_FLOAT 6.56888e-02\\n  + entry\\n    ID           HC\\n    SIGNED_INT   1\\n    SIGNED_FLOAT 1.008\\n    SIGNED_FLOAT 0.0000\\n    ID           A\\n    SIGNED_FLOAT 2.64953e-01\\n    SIGNED_FLOAT 6.56888e-02\\n  + entry\\n    ID           H1\\n    SIGNED_INT   1\\n    SIGNED_FLOAT 1.008\\n    SIGNED_FLOAT 0.0000\\n    ID           A\\n    SIGNED_FLOAT 2.47135e-01\\n    SIGNED_FLOAT 6.56888e-02\\n  + entry\\n    ID           H2\\n    SIGNED_INT   1\\n    SIGNED_FLOAT 1.008\\n    SIGNED_FLOAT 0.0000\\n    ID           A\\n    SIGNED_FLOAT 2.29317e-01\\n    SIGNED_FLOAT 6.56888e-02\\n  + entry\\n    ID           H3\\n    SIGNED_INT   1\\n    SIGNED_FLOAT 1.008\\n    SIGNED_FLOAT 0.0000\\n    ID           A\\n    SIGNED_FLOAT 2.11499e-01\\n    SIGNED_FLOAT 6.56888e-02\\n  + entry\\n    ID           HA\\n    SIGNED_INT   1\\n    SIGNED_FLOAT 1.008\\n    SIGNED_FLOAT 0.0000\\n    ID           A\\n    SIGNED_FLOAT 2.59964e-01\\n    SIGNED_FLOAT 6.27600e-02\\n  + entry\\n    ID           H4\\n    SIGNED_INT   1\\n    SIGNED_FLOAT 1.008\\n    SIGNED_FLOAT 0.0000\\n    ID           A\\n    SIGNED_FLOAT 2.51055e-01\\n    SIGNED_FLOAT 6.27600e-02\\n  + entry\\n    ID           H5\\n    SIGNED_INT   1\\n    SIGNED_FLOAT 1.008\\n    SIGNED_FLOAT 0.0000\\n    ID           A\\n    SIGNED_FLOAT 2.42146e-01\\n    SIGNED_FLOAT 6.27600e-02\\n  + entry\\n    ID           HO\\n    SIGNED_INT   1\\n    SIGNED_FLOAT 1.008\\n    SIGNED_FLOAT 0.0000\\n    ID           A\\n    SIGNED_FLOAT 0.00000e+00\\n    SIGNED_FLOAT 0.00000e+00\\n  + entry\\n    ID           HS\\n    SIGNED_INT   1\\n    SIGNED_FLOAT 1.008\\n    SIGNED_FLOAT 0.0000\\n    ID           A\\n    SIGNED_FLOAT 1.06908e-01\\n    SIGNED_FLOAT 6.56888e-02\\n  + entry\\n    ID           HW\\n    SIGNED_INT   1\\n    SIGNED_FLOAT 1.008\\n    SIGNED_FLOAT 0.0000\\n    ID           A\\n    SIGNED_FLOAT 0.00000e+00\\n    SIGNED_FLOAT 0.00000e+00\\n  + entry\\n    ID           HP\\n    SIGNED_INT   1\\n    SIGNED_FLOAT 1.008\\n    SIGNED_FLOAT 0.0000\\n    ID           A\\n    SIGNED_FLOAT 1.95998e-01\\n    SIGNED_FLOAT 6.56888e-02\\n  + entry\\n    ID           I\\n    SIGNED_INT   53\\n    SIGNED_FLOAT 126.9\\n    SIGNED_FLOAT 0.0000\\n    ID           A\\n    SIGNED_FLOAT 4.18722e-01\\n    SIGNED_FLOAT 1.67360e+00\\n  + entry\\n    ID           Cl\\n    SIGNED_INT   17\\n    SIGNED_FLOAT 35.45\\n    SIGNED_FLOAT 0.0000\\n    ID           A\\n    SIGNED_FLOAT 4.40104e-01\\n    SIGNED_FLOAT 4.18400e-01\\n  + entry\\n    ID           Na\\n    SIGNED_INT   11\\n    SIGNED_FLOAT 22.99\\n    SIGNED_FLOAT 0.0000\\n    ID           A\\n    SIGNED_FLOAT 3.32840e-01\\n    SIGNED_FLOAT 1.15897e-02\\n  + entry\\n    ID           IB\\n    SIGNED_INT   0\\n    SIGNED_FLOAT 131.0\\n    SIGNED_FLOAT 0.0000\\n    ID           A\\n    SIGNED_FLOAT 8.90899e-01\\n    SIGNED_FLOAT 4.18400e-01\\n  + entry\\n    ID           MG\\n    SIGNED_INT   12\\n    SIGNED_FLOAT 24.305\\n    SIGNED_FLOAT 0.0000\\n    ID           A\\n    SIGNED_FLOAT 1.41225e-01\\n    SIGNED_FLOAT 3.74342e+00\\n  + entry\\n    ID           N\\n    SIGNED_INT   7\\n    SIGNED_FLOAT 14.01\\n    SIGNED_FLOAT 0.0000\\n    ID           A\\n    SIGNED_FLOAT 3.25000e-01\\n    SIGNED_FLOAT 7.11280e-01\\n  + entry\\n    ID           NA\\n    SIGNED_INT   7\\n    SIGNED_FLOAT 14.01\\n    SIGNED_FLOAT 0.0000\\n    ID           A\\n    SIGNED_FLOAT 3.25000e-01\\n    SIGNED_FLOAT 7.11280e-01\\n  + entry\\n    ID           NB\\n    SIGNED_INT   7\\n    SIGNED_FLOAT 14.01\\n    SIGNED_FLOAT 0.0000\\n    ID           A\\n    SIGNED_FLOAT 3.25000e-01\\n    SIGNED_FLOAT 7.11280e-01\\n  + entry\\n    ID           NC\\n    SIGNED_INT   7\\n    SIGNED_FLOAT 14.01\\n    SIGNED_FLOAT 0.0000\\n    ID           A\\n    SIGNED_FLOAT 3.25000e-01\\n    SIGNED_FLOAT 7.11280e-01\\n  + entry\\n    ID           N2\\n    SIGNED_INT   7\\n    SIGNED_FLOAT 14.01\\n    SIGNED_FLOAT 0.0000\\n    ID           A\\n    SIGNED_FLOAT 3.25000e-01\\n    SIGNED_FLOAT 7.11280e-01\\n  + entry\\n    ID           N3\\n    SIGNED_INT   7\\n    SIGNED_FLOAT 14.01\\n    SIGNED_FLOAT 0.0000\\n    ID           A\\n    SIGNED_FLOAT 3.25000e-01\\n    SIGNED_FLOAT 7.11280e-01\\n  + entry\\n    ID           N*\\n    SIGNED_INT   7\\n    SIGNED_FLOAT 14.01\\n    SIGNED_FLOAT 0.0000\\n    ID           A\\n    SIGNED_FLOAT 3.25000e-01\\n    SIGNED_FLOAT 7.11280e-01\\n  + entry\\n    ID           O\\n    SIGNED_INT   8\\n    SIGNED_FLOAT 16.00\\n    SIGNED_FLOAT 0.0000\\n    ID           A\\n    SIGNED_FLOAT 2.95992e-01\\n    SIGNED_FLOAT 8.78640e-01\\n  + entry\\n    ID           OW\\n    SIGNED_INT   8\\n    SIGNED_FLOAT 16.00\\n    SIGNED_FLOAT 0.0000\\n    ID           A\\n    SIGNED_FLOAT 3.15061e-01\\n    SIGNED_FLOAT 6.36386e-01\\n  + entry\\n    ID           OH\\n    SIGNED_INT   8\\n    SIGNED_FLOAT 16.00\\n    SIGNED_FLOAT 0.0000\\n    ID           A\\n    SIGNED_FLOAT 3.06647e-01\\n    SIGNED_FLOAT 8.80314e-01\\n  + entry\\n    ID           OS\\n    SIGNED_INT   8\\n    SIGNED_FLOAT 16.00\\n    SIGNED_FLOAT 0.0000\\n    ID           A\\n    SIGNED_FLOAT 3.00001e-01\\n    SIGNED_FLOAT 7.11280e-01\\n  + entry\\n    ID           O2\\n    SIGNED_INT   8\\n    SIGNED_FLOAT 16.00\\n    SIGNED_FLOAT 0.0000\\n    ID           A\\n    SIGNED_FLOAT 2.95992e-01\\n    SIGNED_FLOAT 8.78640e-01\\n  + entry\\n    ID           P\\n    SIGNED_INT   15\\n    SIGNED_FLOAT 30.97\\n    SIGNED_FLOAT 0.0000\\n    ID           A\\n    SIGNED_FLOAT 3.74177e-01\\n    SIGNED_FLOAT 8.36800e-01\\n  + entry\\n    ID           S\\n    SIGNED_INT   16\\n    SIGNED_FLOAT 32.06\\n    SIGNED_FLOAT 0.0000\\n    ID           A\\n    SIGNED_FLOAT 3.56359e-01\\n    SIGNED_FLOAT 1.04600e+00\\n  + entry\\n    ID           SH\\n    SIGNED_INT   16\\n    SIGNED_FLOAT 32.06\\n    SIGNED_FLOAT 0.0000\\n    ID           A\\n    SIGNED_FLOAT 3.56359e-01\\n    SIGNED_FLOAT 1.04600e+00\\n  + entry\\n    ID           CU\\n    SIGNED_INT   29\\n    SIGNED_FLOAT 63.55\\n    SIGNED_FLOAT 0.0000\\n    ID           A\\n    SIGNED_FLOAT 3.39967e-01\\n    SIGNED_FLOAT 3.59824e-01\\n  + entry\\n    ID           K\\n    SIGNED_INT   19\\n    SIGNED_FLOAT 39.10\\n    SIGNED_FLOAT 0.0000\\n    ID           A\\n    SIGNED_FLOAT 4.73602e-01\\n    SIGNED_FLOAT 1.37235e-03\\n  + entry\\n    ID           Rb\\n    SIGNED_INT   37\\n    SIGNED_FLOAT 85.47\\n    SIGNED_FLOAT 0.0000\\n    ID           A\\n    SIGNED_FLOAT 5.26699e-01\\n    SIGNED_FLOAT 7.11280e-04\\n  + entry\\n    ID           Cs\\n    SIGNED_INT   55\\n    SIGNED_FLOAT 132.91\\n    SIGNED_FLOAT 0.0000\\n    ID           A\\n    SIGNED_FLOAT 6.04920e-01\\n    SIGNED_FLOAT 3.37230e-04\\n  + block_comment\\n    COMMENT      ; spc water - use only with spc.itp & settles\\n  + entry\\n    ID           OW_spc\\n    SIGNED_INT   8\\n    SIGNED_FLOAT 15.9994\\n    SIGNED_FLOAT 0.0000\\n    ID           A\\n    SIGNED_FLOAT 3.16557e-01\\n    SIGNED_FLOAT 6.50629e-01\\n  + entry\\n    ID           HW_spc\\n    SIGNED_INT   1\\n    SIGNED_FLOAT 1.0080\\n    SIGNED_FLOAT 0.0000\\n    ID           A\\n    SIGNED_FLOAT 0.00000e+00\\n    SIGNED_FLOAT 0.00000e+00\\n  + entry\\n    ID           Li\\n    SIGNED_INT   3\\n    SIGNED_FLOAT 6.94\\n    SIGNED_FLOAT 0.0000\\n    ID           A\\n    SIGNED_FLOAT 2.02590e-01\\n    SIGNED_FLOAT 7.65672e-02\\n  + entry\\n    ID           Zn\\n    SIGNED_INT   30\\n    SIGNED_FLOAT 65.4\\n    SIGNED_FLOAT 0.0000\\n    ID           A\\n    SIGNED_FLOAT 1.95998e-01\\n    SIGNED_FLOAT 5.23000e-02\\n  + entry\\n    ID           Ni\\n    SIGNED_INT   28\\n    SIGNED_FLOAT 58.69\\n    SIGNED_FLOAT 0.0000\\n    ID           A\\n    SIGNED_FLOAT 1.95998e-01\\n    SIGNED_FLOAT 5.23000e-02\\n  + block_comment\\n    COMMENT      ;tip4p-EW\\n  + entry\\n    ID           HW_tip4pew\\n    SIGNED_INT   1\\n    SIGNED_FLOAT 1.008\\n    SIGNED_FLOAT 0.0000\\n    ID           A\\n    SIGNED_FLOAT 0.00000e+00\\n    SIGNED_FLOAT 0.00000e+00\\n  + entry\\n    ID           OW_tip4pew\\n    SIGNED_INT   8\\n    SIGNED_FLOAT 16.00\\n    SIGNED_FLOAT 0.0000\\n    ID           A\\n    SIGNED_FLOAT 3.16435e-01\\n    SIGNED_FLOAT 6.80946e-01\\n  + block_comment\\n    COMMENT      ; tip4p\\n  + entry\\n    ID           HW_tip4p\\n    SIGNED_INT   1\\n    SIGNED_FLOAT 1.008\\n    SIGNED_FLOAT 0.0000\\n    ID           A\\n    SIGNED_FLOAT 0.00000e+00\\n    SIGNED_FLOAT 0.00000e+00\\n  + entry\\n    ID           OW_tip4p\\n    SIGNED_INT   8\\n    SIGNED_FLOAT 16.00\\n    SIGNED_FLOAT 0.0000\\n    ID           A\\n    SIGNED_FLOAT 3.15365e-01\\n    SIGNED_FLOAT 6.48520e-01\\n  + block_comment\\n    COMMENT      ;tip5p\\n  + entry\\n    ID           HW_tip5p\\n    SIGNED_INT   1\\n    SIGNED_FLOAT 1.008\\n    SIGNED_FLOAT 0.0000\\n    ID           A\\n    SIGNED_FLOAT 0.00000e+00\\n    SIGNED_FLOAT 0.00000e+00\\n  + entry\\n    ID           OW_tip5p\\n    SIGNED_INT   8\\n    SIGNED_FLOAT 16.00\\n    SIGNED_FLOAT 0.0000\\n    ID           A\\n    SIGNED_FLOAT 3.12000e-01\\n    SIGNED_FLOAT 6.69440e-01\\n  + block_comment\\n    COMMENT      ; dummy defs\\n    COMMENT      ; MW=Dummy mass for tip4p/EW/5p water extra point charge\\n  + entry\\n    ID           MW\\n    SIGNED_INT   0\\n    SIGNED_FLOAT 0.0000\\n    SIGNED_FLOAT 0.0000\\n    ID           D\\n    SIGNED_FLOAT 0.00000e+00\\n    SIGNED_FLOAT 0.00000e+00\\n  + block_comment\\n    COMMENT      ; Dummy masses for rigid CH3 and NH3 groups\\n  + entry\\n    ID           MCH3\\n    SIGNED_INT   0\\n    SIGNED_FLOAT 0.0000\\n    SIGNED_FLOAT 0.0000\\n    ID           A\\n    SIGNED_FLOAT 0.00000e+00\\n    SIGNED_FLOAT 0.00000e+00\\n  + entry\\n    ID           MNH3\\n    SIGNED_INT   0\\n    SIGNED_FLOAT 0.0000\\n    SIGNED_FLOAT 0.0000\\n    ID           A\\n    SIGNED_FLOAT 0.00000e+00\\n    SIGNED_FLOAT 0.00000e+00\\n'"
      ]
     },
     "execution_count": 318,
     "metadata": {},
     "output_type": "execute_result"
    }
   ],
   "source": [
    "show_tree(tree)"
   ]
  },
  {
   "cell_type": "markdown",
   "id": "454c66d9-6220-4892-8a2a-fde4f5075b8b",
   "metadata": {},
   "source": [
    "---"
   ]
  },
  {
   "cell_type": "code",
   "execution_count": 359,
   "id": "097b031d-3529-4b22-af9d-ce4ec3e041b2",
   "metadata": {},
   "outputs": [],
   "source": [
    "def gromacs_include():\n",
    "    gromacs_exe = Path(which(\"gmx\"))\n",
    "    gromacs_tops = (gromacs_exe.parent.parent / \"share/gromacs/top\").absolute().resolve()\n",
    "    if not gromacs_tops.exists():\n",
    "        raise Exception(f\"Gromacse share path {gromacs_tops.as_posix()} does not exists\")\n",
    "    return gromacs_tops\n",
    "\n",
    "IfState = namedtuple(\"IfState\", [\"keep\", \"skip_until\"])\n",
    "    \n",
    "class TopologyPreprocessor:\n",
    "    def __init__(self, include_paths: list[str] = None, strict: bool = True, defines: dict = None, verbose: bool = True):\n",
    "        if include_paths is None:\n",
    "            include_paths = []\n",
    "        self.include_paths = include_paths\n",
    "        self.include_paths.append(gromacs_include())\n",
    "        self.strict = strict\n",
    "        if defines is None:\n",
    "            self.defines = {}\n",
    "        else:\n",
    "            self.defines = defines\n",
    "        self.verbose = verbose\n",
    "        self.preprocessed_tree = Tree(\n",
    "            data=\"topology\",\n",
    "            children=[],\n",
    "        )\n",
    "        self._if_state = [\n",
    "            IfState(\n",
    "                True,\n",
    "                [],\n",
    "            )                \n",
    "        ]\n",
    "        self._if_level = 0\n",
    "\n",
    "    def _append_tree(self, tree):\n",
    "        assert tree.data == \"topology\"\n",
    "        self.preprocessed_tree.children.extend(tree.children)\n",
    "\n",
    "    def _comment(self, comment: str):\n",
    "        if not self.verbose:\n",
    "            return\n",
    "        comment_token = Token(\n",
    "            type=\"COMMENT\",\n",
    "            value=f\"; {' '.join(comment.splitlines())}\"\n",
    "        )\n",
    "        if self.preprocessed_tree.children[-1].data == \"block_comment\":\n",
    "            self.preprocessed_tree.children[-1].children.append(comment_token)\n",
    "        else:\n",
    "            self.preprocessed_tree.children.append(\n",
    "                Tree(\n",
    "                    data=\"block_comment\",\n",
    "                    children=[comment_token],\n",
    "                )\n",
    "            )\n",
    "\n",
    "    def _process_include(self, record):\n",
    "        path_token, *_ = record.children\n",
    "        assert path_token.type == \"PATH\"\n",
    "        \n",
    "        include_suffix = Path(path_token[1:-1])\n",
    "        include_candidates = [include_suffix] + [\n",
    "            include_prefix / include_suffix\n",
    "            for include_prefix in self.include_paths\n",
    "        ]\n",
    "        for include_path in include_candidates:\n",
    "            if include_path.exists():\n",
    "                break  # First occurence of the file to include\n",
    "        if not include_path.exists():\n",
    "            raise Exception\n",
    "        \n",
    "        self._comment(f\">>> Included from {include_path.as_posix()}\")\n",
    "        print(f\"> Include {include_path.as_posix()}\")\n",
    "        self.preprocess_topology(include_path)\n",
    "        self._comment(f\"<<< Included from {include_path.as_posix()}\")\n",
    "\n",
    "    def _process_define(self, record):\n",
    "        assert record.data == \"define\"\n",
    "        key, *values = record.children\n",
    "        keep_tokens = [\"ID\", \"SIGNED_INT\", \"SIGNED_FLOAT\"]\n",
    "        if self.verbose:\n",
    "            keep_tokens.append(\"COMMENT\")\n",
    "        self.defines[key.value] = list(filter(\n",
    "            lambda t: t.type in keep_tokens,\n",
    "            values,\n",
    "        ))\n",
    "\n",
    "    def _process_undef(self, record):\n",
    "        assert record.data == \"undef\"\n",
    "        key, *_ = record.children\n",
    "        key = key.value\n",
    "        self.defines.pop(key, None)\n",
    "\n",
    "    def _process_if(self, record):\n",
    "        assert record.data in [\"ifdef\", \"ifndef\"]\n",
    "        \n",
    "        keep = self._if_state[self._if_level].keep and \\\n",
    "            (record.data == \"ifdef\" and record.children[0].value in self.defines) or \\\n",
    "            (record.data == \"ifndef\" and record.children[0].value not in self.defines)\n",
    "        print(f\"Check {record.children[0].value}, {keep}\")\n",
    "        self._if_level += 1\n",
    "        if keep:  # condition satisfied\n",
    "            self._if_state.append(\n",
    "                IfState(keep, [])\n",
    "            )\n",
    "        else:\n",
    "            self._if_state.append(\n",
    "                IfState(keep, [\"endif\", \"else\", \"ifdef\", \"ifndef\"])\n",
    "            )\n",
    "\n",
    "    def _process_else(self, record):\n",
    "        assert record.data == \"else\"\n",
    "        if self._if_level < 1:\n",
    "            raise Exception\n",
    "        keep = not self._if_state[self._if_level].keep and self._if_state[self._if_level - 1].keep\n",
    "        if keep:  # condition satisfied\n",
    "            self._if_state[self._if_level] = IfState(keep, [])\n",
    "        else:\n",
    "            self._if_state[self._if_level] = IfState(keep, [\"endif\", \"ifdef\", \"ifndef\"])\n",
    "\n",
    "    def _process_header(self, record):\n",
    "        assert record.data == \"section_header\"\n",
    "        values = record.children\n",
    "        if not self.verbose:\n",
    "            record.children = values[:1]\n",
    "        self.preprocessed_tree.children.append(record)\n",
    "\n",
    "    def _process_entry(self, record):\n",
    "        assert record.data == \"entry\"\n",
    "        processed_values = []\n",
    "        for token in record.children:\n",
    "            if not (self.verbose or token.type in [\"ID\", \"SIGNED_INT\", \"SIGNED_FLOAT\"]):\n",
    "                continue\n",
    "            if token.type == \"ID\" and token.value in self.defines:\n",
    "                processed_values.extend(self.defines[token.value])\n",
    "            else:\n",
    "                processed_values.append(token)\n",
    "        record.children = processed_values\n",
    "        self.preprocessed_tree.children.append(record)\n",
    "        \n",
    "    def _process_endif(self, record):\n",
    "        assert record.data == \"endif\"\n",
    "        if self._if_level < 1:\n",
    "            raise Exception\n",
    "        self._if_state.pop(self._if_level)\n",
    "        self._if_level -= 1\n",
    "\n",
    "    def _keep_subtree(self, record):\n",
    "        self.preprocessed_tree.children.append(record)\n",
    "\n",
    "    def _keep_if_verbose(self, record):\n",
    "        if self.verbose:\n",
    "            self.preprocessed_tree.children.append(record)\n",
    "\n",
    "    @property\n",
    "    def entry_handlers(self):\n",
    "        handlers = defaultdict(\n",
    "            lambda: self._keep_subtree,\n",
    "            {\n",
    "                \"include\": self._process_include,\n",
    "                \"block_comment\": self._keep_if_verbose,\n",
    "                \"preceeding\": ignore,\n",
    "                \"define\": self._process_define,\n",
    "                \"undef\": self._process_undef,\n",
    "                \"ifndef\": self._process_if,\n",
    "                \"ifdef\": self._process_if,\n",
    "                \"else\": self._process_else,\n",
    "                \"endif\": self._process_endif,\n",
    "                \"section_header\": self._process_header,\n",
    "                \"entry\": self._process_entry,\n",
    "            }\n",
    "        )\n",
    "        return handlers\n",
    "    \n",
    "    def preprocess_topology(self, path):\n",
    "\n",
    "        tree = parse_topology(path)\n",
    "        self.include_paths = [path.parent] + self.include_paths\n",
    "        assert tree.data == \"topology\"\n",
    "        for record in tree.children:\n",
    "            if self._if_level:\n",
    "                no_skip = self._if_state[self._if_level].skip_until\n",
    "                \n",
    "                if no_skip and record.data not in no_skip:\n",
    "                    \n",
    "                    continue\n",
    "            self.entry_handlers[record.data](record)\n"
   ]
  },
  {
   "cell_type": "code",
   "execution_count": 363,
   "id": "baeb7048-4157-44e3-8811-f13a7e8773fb",
   "metadata": {},
   "outputs": [],
   "source": [
    "preprocessor = TopologyPreprocessor(verbose=False, defines={\"POSRES\": [], \"POSRES_WATER\": []})"
   ]
  },
  {
   "cell_type": "code",
   "execution_count": 364,
   "id": "73e206ff-6388-455e-8112-5f802108be02",
   "metadata": {
    "scrolled": true
   },
   "outputs": [
    {
     "name": "stdout",
     "output_type": "stream",
     "text": [
      "> Include /Users/iakovlevda/_pmx/gromacs-2021/build/package/gromacs/share/gromacs/top/amber99sb-ildn.ff/forcefield.itp\n",
      "> Include /Users/iakovlevda/_pmx/gromacs-2021/build/package/gromacs/share/gromacs/top/amber99sb-ildn.ff/ffnonbonded.itp\n",
      "> Include /Users/iakovlevda/_pmx/gromacs-2021/build/package/gromacs/share/gromacs/top/amber99sb-ildn.ff/ffbonded.itp\n",
      "> Include topol_Protein_chain_A.itp\n",
      "Check POSRES, True\n",
      "> Include posre_Protein_chain_A.itp\n",
      "> Include topol_DNA_chain_B.itp\n",
      "Check POSRES, True\n",
      "> Include posre_DNA_chain_B.itp\n",
      "> Include topol_Ion_chain_A2.itp\n",
      "Check POSRES, True\n",
      "> Include posre_Ion_chain_A2.itp\n",
      "> Include /Users/iakovlevda/_pmx/gromacs-2021/build/package/gromacs/share/gromacs/top/amber99sb-ildn.ff/tip3p.itp\n",
      "Check FLEXIBLE, True\n",
      "Check POSRES_WATER, True\n",
      "> Include /Users/iakovlevda/_pmx/gromacs-2021/build/package/gromacs/share/gromacs/top/amber99sb-ildn.ff/ions.itp\n",
      "CPU times: user 1.85 s, sys: 53.5 ms, total: 1.91 s\n",
      "Wall time: 1.95 s\n"
     ]
    }
   ],
   "source": [
    "%%time\n",
    "preprocessor.preprocess_topology(Path(\"topol.top\"))"
   ]
  },
  {
   "cell_type": "code",
   "execution_count": 365,
   "id": "f93cfbb6-a8df-42a3-888a-a4741ddb4180",
   "metadata": {},
   "outputs": [],
   "source": [
    "with open(\"tree.dump\", \"w\") as dump:\n",
    "    dump.write(show_tree(preprocessor.preprocessed_tree))"
   ]
  },
  {
   "cell_type": "code",
   "execution_count": null,
   "id": "2b3ee7da-316c-4e2a-bd56-9e98833c85d3",
   "metadata": {},
   "outputs": [],
   "source": []
  }
 ],
 "metadata": {
  "kernelspec": {
   "display_name": "Python 3 (ipykernel)",
   "language": "python",
   "name": "python3"
  },
  "language_info": {
   "codemirror_mode": {
    "name": "ipython",
    "version": 3
   },
   "file_extension": ".py",
   "mimetype": "text/x-python",
   "name": "python",
   "nbconvert_exporter": "python",
   "pygments_lexer": "ipython3",
   "version": "3.12.1"
  }
 },
 "nbformat": 4,
 "nbformat_minor": 5
}
