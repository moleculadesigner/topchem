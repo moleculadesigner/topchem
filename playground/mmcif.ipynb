{
 "cells": [
  {
   "cell_type": "code",
   "execution_count": 20,
   "id": "0fa39152-243a-4214-9aa3-0c77e4327773",
   "metadata": {},
   "outputs": [],
   "source": [
    "mmcif_grammar = r\"\"\"\n",
    "// MMCIF parser grammar\n",
    "\n",
    "start : data (entry | loop)+\n",
    "\n",
    "key : \"_\" CNAME (\".\" CNAME)+ -> key\n",
    "\n",
    "value.0 :  STRING | TEXT -> value\n",
    "STRING.1 : SQ | DQ | SC\n",
    "TEXT.0 : /\\S+/\n",
    "SQ : \"'\" _STRING_ESC_INNER \"'\"\n",
    "DQ : \"\\\"\" _STRING_ESC_INNER \"\\\"\"\n",
    "SC : /\\r?\\n\\;.*?\\r?\\n\\;/s\n",
    "\n",
    "data : \"data_\" value? NEWLINE -> data\n",
    "\n",
    "entry.2 : key value NEWLINE -> entry\n",
    "\n",
    "loop : loop_header loop_key+ loop_value+\n",
    "loop_header : \"loop_\" _NL\n",
    "loop_key.1 : key _NL\n",
    "loop_value.0 : value+ _NL\n",
    "\n",
    "_COMMENT : \"#\" /[^\\n]*/ _NL\n",
    "_NL : NEWLINE\n",
    "\n",
    "%import common.NEWLINE\n",
    "%import common.WS_INLINE\n",
    "%import common.CNAME\n",
    "%import common._STRING_ESC_INNER\n",
    "%import common.CR\n",
    "%import common.LF\n",
    "%import common.SIGNED_INT\n",
    "%import common.SIGNED_FLOAT\n",
    "\n",
    "%ignore (WS_INLINE | _COMMENT)\n",
    "\"\"\""
   ]
  },
  {
   "cell_type": "code",
   "execution_count": 21,
   "id": "e9f16c94-3bbc-44b8-ada6-2c3c56a187db",
   "metadata": {},
   "outputs": [],
   "source": [
    "from pathlib import Path\n",
    "from lark import Lark"
   ]
  },
  {
   "cell_type": "code",
   "execution_count": 22,
   "id": "b021e279-816a-4e5e-a5f6-b2c7739fe725",
   "metadata": {},
   "outputs": [],
   "source": [
    "cif_path = Path(\"data/mmcif/4JPP.cif\")"
   ]
  },
  {
   "cell_type": "code",
   "execution_count": null,
   "id": "cfced9f0-23d8-4e69-8bd1-6f1d53b8f52c",
   "metadata": {},
   "outputs": [],
   "source": []
  },
  {
   "cell_type": "code",
   "execution_count": 23,
   "id": "98f38793-3a8d-44fe-9869-507f7f117161",
   "metadata": {},
   "outputs": [],
   "source": [
    "parser = Lark(\n",
    "    grammar=mmcif_grammar,\n",
    "    lexer=\"dynamic\",\n",
    "    ordered_sets=False,\n",
    ")"
   ]
  },
  {
   "cell_type": "code",
   "execution_count": null,
   "id": "376157a8-12cf-4c3d-b1b8-46a5136f3066",
   "metadata": {},
   "outputs": [],
   "source": [
    "%%time\n",
    "tree = parser.parse(cif_path.read_text())\n",
    "with open(\"4jpp.txt\", \"w\") as pretty:\n",
    "    pretty.write(tree.pretty())"
   ]
  },
  {
   "cell_type": "code",
   "execution_count": null,
   "id": "53402ca9-c70e-4a08-8d4c-828d481f7840",
   "metadata": {},
   "outputs": [],
   "source": []
  }
 ],
 "metadata": {
  "kernelspec": {
   "display_name": "Python 3 (ipykernel)",
   "language": "python",
   "name": "python3"
  },
  "language_info": {
   "codemirror_mode": {
    "name": "ipython",
    "version": 3
   },
   "file_extension": ".py",
   "mimetype": "text/x-python",
   "name": "python",
   "nbconvert_exporter": "python",
   "pygments_lexer": "ipython3",
   "version": "3.12.1"
  }
 },
 "nbformat": 4,
 "nbformat_minor": 5
}
